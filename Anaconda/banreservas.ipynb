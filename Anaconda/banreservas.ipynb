{
 "cells": [
  {
   "cell_type": "code",
   "execution_count": 2,
   "id": "c26fdb3c",
   "metadata": {},
   "outputs": [],
   "source": [
    "import pandas as pd\n",
    "import datetime as dt\n",
    "import matplotlib.pyplot as plt"
   ]
  },
  {
   "cell_type": "code",
   "execution_count": 3,
   "id": "39a9ae77",
   "metadata": {},
   "outputs": [],
   "source": [
    "path = \"C:/Users/rdrs_/OneDrive/Documentos/GitHub/Ste/Anaconda/CuentaMovimientos_.csv\"\n",
    "df = pd.read_csv(path)"
   ]
  },
  {
   "cell_type": "code",
   "execution_count": 4,
   "id": "74fde2c3",
   "metadata": {},
   "outputs": [
    {
     "name": "stdout",
     "output_type": "stream",
     "text": [
      "<class 'pandas.core.frame.DataFrame'>\n",
      "RangeIndex: 258 entries, 0 to 257\n",
      "Data columns (total 9 columns):\n",
      " #   Column             Non-Null Count  Dtype \n",
      "---  ------             --------------  ----- \n",
      " 0   Producto           258 non-null    int64 \n",
      " 1   Fecha              258 non-null    object\n",
      " 2   Concepto           258 non-null    object\n",
      " 3   Id de transacción  258 non-null    int64 \n",
      " 4   Débito             258 non-null    object\n",
      " 5   Crédito            258 non-null    object\n",
      " 6   Balance            258 non-null    object\n",
      " 7   Descripción        258 non-null    object\n",
      " 8   Referencia         258 non-null    int64 \n",
      "dtypes: int64(3), object(6)\n",
      "memory usage: 18.3+ KB\n"
     ]
    }
   ],
   "source": [
    "df.info()"
   ]
  },
  {
   "cell_type": "code",
   "execution_count": 5,
   "id": "81b07a88",
   "metadata": {},
   "outputs": [
    {
     "data": {
      "text/html": [
       "<div>\n",
       "<style scoped>\n",
       "    .dataframe tbody tr th:only-of-type {\n",
       "        vertical-align: middle;\n",
       "    }\n",
       "\n",
       "    .dataframe tbody tr th {\n",
       "        vertical-align: top;\n",
       "    }\n",
       "\n",
       "    .dataframe thead th {\n",
       "        text-align: right;\n",
       "    }\n",
       "</style>\n",
       "<table border=\"1\" class=\"dataframe\">\n",
       "  <thead>\n",
       "    <tr style=\"text-align: right;\">\n",
       "      <th></th>\n",
       "      <th>Producto</th>\n",
       "      <th>Fecha</th>\n",
       "      <th>Concepto</th>\n",
       "      <th>Id de transacción</th>\n",
       "      <th>Débito</th>\n",
       "      <th>Crédito</th>\n",
       "      <th>Balance</th>\n",
       "      <th>Descripción</th>\n",
       "      <th>Referencia</th>\n",
       "    </tr>\n",
       "  </thead>\n",
       "  <tbody>\n",
       "    <tr>\n",
       "      <th>0</th>\n",
       "      <td>2320755313</td>\n",
       "      <td>01/02/2023</td>\n",
       "      <td>COBRO IMP DGII 0.15%_TRANS TUB</td>\n",
       "      <td>929466948777</td>\n",
       "      <td>12.15</td>\n",
       "      <td>0.00</td>\n",
       "      <td>11,479.85</td>\n",
       "      <td>COBRO IMP DGII 0.15%_TRANS TUB 29466948777 402...</td>\n",
       "      <td>929466948</td>\n",
       "    </tr>\n",
       "    <tr>\n",
       "      <th>1</th>\n",
       "      <td>2320755313</td>\n",
       "      <td>01/02/2023</td>\n",
       "      <td>TRANSFERENCIA ACH A PONTIFICIA UNIVERSIDAD CAT</td>\n",
       "      <td>29466948777</td>\n",
       "      <td>8,100.00</td>\n",
       "      <td>0.00</td>\n",
       "      <td>11,492.00</td>\n",
       "      <td>TRANSF ACH ENTRE CTAS CURSO ES 818074437</td>\n",
       "      <td>294669487</td>\n",
       "    </tr>\n",
       "    <tr>\n",
       "      <th>2</th>\n",
       "      <td>2320755313</td>\n",
       "      <td>31/01/2023</td>\n",
       "      <td>CR TRANSFERENCIA A AHORROS</td>\n",
       "      <td>203230026317992</td>\n",
       "      <td>0.00</td>\n",
       "      <td>16,000.00</td>\n",
       "      <td>19,592.00</td>\n",
       "      <td>203W 2300462327 SR RANDEL Y MELENCIANO BRETON\\</td>\n",
       "      <td>929462841</td>\n",
       "    </tr>\n",
       "    <tr>\n",
       "      <th>3</th>\n",
       "      <td>2320755313</td>\n",
       "      <td>31/01/2023</td>\n",
       "      <td>COBRO IMP DGII 0.15%_TRANS TUB</td>\n",
       "      <td>929462081017</td>\n",
       "      <td>24.15</td>\n",
       "      <td>0.00</td>\n",
       "      <td>3,592.00</td>\n",
       "      <td>COBRO IMP DGII 0.15%_TRANS TUB 29462081017 402...</td>\n",
       "      <td>929462081</td>\n",
       "    </tr>\n",
       "    <tr>\n",
       "      <th>4</th>\n",
       "      <td>2320755313</td>\n",
       "      <td>31/01/2023</td>\n",
       "      <td>TRANSFERENCIA ACH A RANDEL</td>\n",
       "      <td>29462081017</td>\n",
       "      <td>16,100.00</td>\n",
       "      <td>0.00</td>\n",
       "      <td>3,616.15</td>\n",
       "      <td>TRANSF ACH ENTRE CTAS CURSO 0785718479</td>\n",
       "      <td>294620810</td>\n",
       "    </tr>\n",
       "    <tr>\n",
       "      <th>5</th>\n",
       "      <td>2320755313</td>\n",
       "      <td>31/01/2023</td>\n",
       "      <td>RETIRO ATM BANRESERVAS</td>\n",
       "      <td>301374</td>\n",
       "      <td>1,400.00</td>\n",
       "      <td>0.00</td>\n",
       "      <td>19,716.15</td>\n",
       "      <td>310123 BANCO RESERVAS R.D 010R EP REPSTDOM DO ...</td>\n",
       "      <td>0</td>\n",
       "    </tr>\n",
       "    <tr>\n",
       "      <th>6</th>\n",
       "      <td>2320755313</td>\n",
       "      <td>31/01/2023</td>\n",
       "      <td>280123 CON MC GANAS EN CLARO</td>\n",
       "      <td>112340045</td>\n",
       "      <td>0.00</td>\n",
       "      <td>5.20</td>\n",
       "      <td>21,116.15</td>\n",
       "      <td>280123 CON MC GANAS EN CLARO REBATE DO 5898832...</td>\n",
       "      <td>294478023</td>\n",
       "    </tr>\n",
       "    <tr>\n",
       "      <th>7</th>\n",
       "      <td>2320755313</td>\n",
       "      <td>31/01/2023</td>\n",
       "      <td>290123 JUMBO MELLA</td>\n",
       "      <td>809112343898</td>\n",
       "      <td>696.00</td>\n",
       "      <td>0.00</td>\n",
       "      <td>21,110.95</td>\n",
       "      <td>290123 JUMBO MELLA SANTO DOMI DO 000071342518</td>\n",
       "      <td>929447739</td>\n",
       "    </tr>\n",
       "    <tr>\n",
       "      <th>8</th>\n",
       "      <td>2320755313</td>\n",
       "      <td>31/01/2023</td>\n",
       "      <td>290123 SHELL CHARLES DE GAULL</td>\n",
       "      <td>757112347613</td>\n",
       "      <td>587.00</td>\n",
       "      <td>0.00</td>\n",
       "      <td>21,806.95</td>\n",
       "      <td>290123 SHELL CHARLES DE GAULL SANTO DOMI DO 01...</td>\n",
       "      <td>294476753</td>\n",
       "    </tr>\n",
       "    <tr>\n",
       "      <th>9</th>\n",
       "      <td>2320755313</td>\n",
       "      <td>27/01/2023</td>\n",
       "      <td>260123 CLARO RECAR 8297569527</td>\n",
       "      <td>1312112342010</td>\n",
       "      <td>52.00</td>\n",
       "      <td>0.00</td>\n",
       "      <td>22,393.95</td>\n",
       "      <td>260123 CLARO RECAR 8297569527 SANTO DOMI DO 01...</td>\n",
       "      <td>294229364</td>\n",
       "    </tr>\n",
       "  </tbody>\n",
       "</table>\n",
       "</div>"
      ],
      "text/plain": [
       "     Producto       Fecha                                        Concepto  \\\n",
       "0  2320755313  01/02/2023                  COBRO IMP DGII 0.15%_TRANS TUB   \n",
       "1  2320755313  01/02/2023  TRANSFERENCIA ACH A PONTIFICIA UNIVERSIDAD CAT   \n",
       "2  2320755313  31/01/2023                      CR TRANSFERENCIA A AHORROS   \n",
       "3  2320755313  31/01/2023                  COBRO IMP DGII 0.15%_TRANS TUB   \n",
       "4  2320755313  31/01/2023                      TRANSFERENCIA ACH A RANDEL   \n",
       "5  2320755313  31/01/2023                          RETIRO ATM BANRESERVAS   \n",
       "6  2320755313  31/01/2023                    280123 CON MC GANAS EN CLARO   \n",
       "7  2320755313  31/01/2023                              290123 JUMBO MELLA   \n",
       "8  2320755313  31/01/2023                   290123 SHELL CHARLES DE GAULL   \n",
       "9  2320755313  27/01/2023                   260123 CLARO RECAR 8297569527   \n",
       "\n",
       "   Id de transacción     Débito    Crédito    Balance  \\\n",
       "0       929466948777      12.15       0.00  11,479.85   \n",
       "1        29466948777   8,100.00       0.00  11,492.00   \n",
       "2    203230026317992       0.00  16,000.00  19,592.00   \n",
       "3       929462081017      24.15       0.00   3,592.00   \n",
       "4        29462081017  16,100.00       0.00   3,616.15   \n",
       "5             301374   1,400.00       0.00  19,716.15   \n",
       "6          112340045       0.00       5.20  21,116.15   \n",
       "7       809112343898     696.00       0.00  21,110.95   \n",
       "8       757112347613     587.00       0.00  21,806.95   \n",
       "9      1312112342010      52.00       0.00  22,393.95   \n",
       "\n",
       "                                         Descripción  Referencia  \n",
       "0  COBRO IMP DGII 0.15%_TRANS TUB 29466948777 402...   929466948  \n",
       "1           TRANSF ACH ENTRE CTAS CURSO ES 818074437   294669487  \n",
       "2     203W 2300462327 SR RANDEL Y MELENCIANO BRETON\\   929462841  \n",
       "3  COBRO IMP DGII 0.15%_TRANS TUB 29462081017 402...   929462081  \n",
       "4             TRANSF ACH ENTRE CTAS CURSO 0785718479   294620810  \n",
       "5  310123 BANCO RESERVAS R.D 010R EP REPSTDOM DO ...           0  \n",
       "6  280123 CON MC GANAS EN CLARO REBATE DO 5898832...   294478023  \n",
       "7      290123 JUMBO MELLA SANTO DOMI DO 000071342518   929447739  \n",
       "8  290123 SHELL CHARLES DE GAULL SANTO DOMI DO 01...   294476753  \n",
       "9  260123 CLARO RECAR 8297569527 SANTO DOMI DO 01...   294229364  "
      ]
     },
     "execution_count": 5,
     "metadata": {},
     "output_type": "execute_result"
    }
   ],
   "source": [
    "df.head(10)"
   ]
  },
  {
   "cell_type": "code",
   "execution_count": 6,
   "id": "fa917946",
   "metadata": {},
   "outputs": [],
   "source": [
    "df[\"Débito\"] = df[\"Débito\"].str.replace(',','')\n",
    "df[\"Crédito\"] = df[\"Crédito\"].str.replace(',','')\n",
    "df[\"Balance\"] = df[\"Balance\"].str.replace(',','')"
   ]
  },
  {
   "cell_type": "code",
   "execution_count": 7,
   "id": "8e13e67e",
   "metadata": {},
   "outputs": [],
   "source": [
    "df[\"Débito\"] = df[\"Débito\"].astype(float)\n",
    "df[\"Crédito\"] = df[\"Crédito\"].astype(float)\n",
    "df[\"Balance\"] = df[\"Balance\"].astype(float)"
   ]
  },
  {
   "cell_type": "code",
   "execution_count": 8,
   "id": "1070a263",
   "metadata": {},
   "outputs": [],
   "source": [
    "df['Fecha'] = pd.to_datetime(df['Fecha'], format='%d/%m/%Y')\n",
    "df.sort_values(by='Fecha', ascending=True, inplace=True)\n"
   ]
  },
  {
   "cell_type": "code",
   "execution_count": 9,
   "id": "d5c4f2af",
   "metadata": {},
   "outputs": [],
   "source": [
    "# Tabla para el año\n",
    "df[\"Año\"] = df[\"Fecha\"].dt.year"
   ]
  },
  {
   "cell_type": "code",
   "execution_count": 10,
   "id": "8ed3457a",
   "metadata": {},
   "outputs": [
    {
     "data": {
      "text/html": [
       "<div>\n",
       "<style scoped>\n",
       "    .dataframe tbody tr th:only-of-type {\n",
       "        vertical-align: middle;\n",
       "    }\n",
       "\n",
       "    .dataframe tbody tr th {\n",
       "        vertical-align: top;\n",
       "    }\n",
       "\n",
       "    .dataframe thead th {\n",
       "        text-align: right;\n",
       "    }\n",
       "</style>\n",
       "<table border=\"1\" class=\"dataframe\">\n",
       "  <thead>\n",
       "    <tr style=\"text-align: right;\">\n",
       "      <th></th>\n",
       "      <th>Producto</th>\n",
       "      <th>Fecha</th>\n",
       "      <th>Concepto</th>\n",
       "      <th>Id de transacción</th>\n",
       "      <th>Débito</th>\n",
       "      <th>Crédito</th>\n",
       "      <th>Balance</th>\n",
       "      <th>Descripción</th>\n",
       "      <th>Referencia</th>\n",
       "      <th>Año</th>\n",
       "    </tr>\n",
       "  </thead>\n",
       "  <tbody>\n",
       "    <tr>\n",
       "      <th>257</th>\n",
       "      <td>2320755313</td>\n",
       "      <td>2021-01-29</td>\n",
       "      <td>CARGO BALANCE PROMEDIO MÍNIMO</td>\n",
       "      <td>9990002</td>\n",
       "      <td>35.0</td>\n",
       "      <td>0.0</td>\n",
       "      <td>0.0</td>\n",
       "      <td>CARGO BALANCE PROMEDIO MÍNIMO</td>\n",
       "      <td>0</td>\n",
       "      <td>2021</td>\n",
       "    </tr>\n",
       "    <tr>\n",
       "      <th>256</th>\n",
       "      <td>2320755313</td>\n",
       "      <td>2021-02-26</td>\n",
       "      <td>CARGO BALANCE PROMEDIO MÍNIMO</td>\n",
       "      <td>9990002</td>\n",
       "      <td>35.0</td>\n",
       "      <td>0.0</td>\n",
       "      <td>0.0</td>\n",
       "      <td>CARGO BALANCE PROMEDIO MÍNIMO</td>\n",
       "      <td>0</td>\n",
       "      <td>2021</td>\n",
       "    </tr>\n",
       "    <tr>\n",
       "      <th>255</th>\n",
       "      <td>2320755313</td>\n",
       "      <td>2021-03-31</td>\n",
       "      <td>CARGO BALANCE PROMEDIO MÍNIMO</td>\n",
       "      <td>9990002</td>\n",
       "      <td>35.0</td>\n",
       "      <td>0.0</td>\n",
       "      <td>0.0</td>\n",
       "      <td>CARGO BALANCE PROMEDIO MÍNIMO</td>\n",
       "      <td>0</td>\n",
       "      <td>2021</td>\n",
       "    </tr>\n",
       "    <tr>\n",
       "      <th>254</th>\n",
       "      <td>2320755313</td>\n",
       "      <td>2021-04-30</td>\n",
       "      <td>CARGO BALANCE PROMEDIO MÍNIMO</td>\n",
       "      <td>9990002</td>\n",
       "      <td>35.0</td>\n",
       "      <td>0.0</td>\n",
       "      <td>0.0</td>\n",
       "      <td>CARGO BALANCE PROMEDIO MÍNIMO</td>\n",
       "      <td>0</td>\n",
       "      <td>2021</td>\n",
       "    </tr>\n",
       "    <tr>\n",
       "      <th>253</th>\n",
       "      <td>2320755313</td>\n",
       "      <td>2021-05-31</td>\n",
       "      <td>CARGO BALANCE PROMEDIO MÍNIMO</td>\n",
       "      <td>9990002</td>\n",
       "      <td>50.0</td>\n",
       "      <td>0.0</td>\n",
       "      <td>0.0</td>\n",
       "      <td>CARGO BALANCE PROMEDIO MÍNIMO</td>\n",
       "      <td>0</td>\n",
       "      <td>2021</td>\n",
       "    </tr>\n",
       "  </tbody>\n",
       "</table>\n",
       "</div>"
      ],
      "text/plain": [
       "       Producto      Fecha                       Concepto  Id de transacción  \\\n",
       "257  2320755313 2021-01-29  CARGO BALANCE PROMEDIO MÍNIMO            9990002   \n",
       "256  2320755313 2021-02-26  CARGO BALANCE PROMEDIO MÍNIMO            9990002   \n",
       "255  2320755313 2021-03-31  CARGO BALANCE PROMEDIO MÍNIMO            9990002   \n",
       "254  2320755313 2021-04-30  CARGO BALANCE PROMEDIO MÍNIMO            9990002   \n",
       "253  2320755313 2021-05-31  CARGO BALANCE PROMEDIO MÍNIMO            9990002   \n",
       "\n",
       "     Débito  Crédito  Balance                      Descripción  Referencia  \\\n",
       "257    35.0      0.0      0.0  CARGO BALANCE PROMEDIO MÍNIMO             0   \n",
       "256    35.0      0.0      0.0  CARGO BALANCE PROMEDIO MÍNIMO             0   \n",
       "255    35.0      0.0      0.0  CARGO BALANCE PROMEDIO MÍNIMO             0   \n",
       "254    35.0      0.0      0.0  CARGO BALANCE PROMEDIO MÍNIMO             0   \n",
       "253    50.0      0.0      0.0  CARGO BALANCE PROMEDIO MÍNIMO             0   \n",
       "\n",
       "      Año  \n",
       "257  2021  \n",
       "256  2021  \n",
       "255  2021  \n",
       "254  2021  \n",
       "253  2021  "
      ]
     },
     "execution_count": 10,
     "metadata": {},
     "output_type": "execute_result"
    }
   ],
   "source": [
    "df.head()"
   ]
  },
  {
   "cell_type": "code",
   "execution_count": 11,
   "id": "b062b80a",
   "metadata": {},
   "outputs": [
    {
     "name": "stdout",
     "output_type": "stream",
     "text": [
      "<class 'pandas.core.frame.DataFrame'>\n",
      "Int64Index: 258 entries, 257 to 0\n",
      "Data columns (total 10 columns):\n",
      " #   Column             Non-Null Count  Dtype         \n",
      "---  ------             --------------  -----         \n",
      " 0   Producto           258 non-null    int64         \n",
      " 1   Fecha              258 non-null    datetime64[ns]\n",
      " 2   Concepto           258 non-null    object        \n",
      " 3   Id de transacción  258 non-null    int64         \n",
      " 4   Débito             258 non-null    float64       \n",
      " 5   Crédito            258 non-null    float64       \n",
      " 6   Balance            258 non-null    float64       \n",
      " 7   Descripción        258 non-null    object        \n",
      " 8   Referencia         258 non-null    int64         \n",
      " 9   Año                258 non-null    int64         \n",
      "dtypes: datetime64[ns](1), float64(3), int64(4), object(2)\n",
      "memory usage: 22.2+ KB\n"
     ]
    }
   ],
   "source": [
    "df.info()"
   ]
  },
  {
   "cell_type": "code",
   "execution_count": 12,
   "id": "feb60a7e",
   "metadata": {},
   "outputs": [
    {
     "data": {
      "image/png": "[encoded data removed]",
      "text/plain": [
       "<Figure size 640x480 with 1 Axes>"
      ]
     },
     "metadata": {},
     "output_type": "display_data"
    }
   ],
   "source": [
    "plt.hist(df[\"Débito\"], df['Fecha'], histtype=\"bar\", rwidth=0.8, color=\"lightgreen\")\n",
    "plt.show()"
   ]
  },
  {
   "cell_type": "code",
   "execution_count": 13,
   "id": "5ffe9db7",
   "metadata": {},
   "outputs": [
    {
     "name": "stderr",
     "output_type": "stream",
     "text": [
      "C:\\Users\\rdrs_\\AppData\\Local\\Temp\\ipykernel_12856\\3146858813.py:1: FutureWarning: The default value of numeric_only in DataFrameGroupBy.sum is deprecated. In a future version, numeric_only will default to False. Either specify numeric_only or select only columns which should be valid for the function.\n",
      "  df_año = df.groupby(\"Año\").sum()\n"
     ]
    }
   ],
   "source": [
    "# df_año = df.groupby(\"Año\").sum()"
   ]
  }
 ],
 "metadata": {
  "kernelspec": {
   "display_name": "Python 3",
   "language": "python",
   "name": "python3"
  },
  "language_info": {
   "codemirror_mode": {
    "name": "ipython",
    "version": 3
   },
   "file_extension": ".py",
   "mimetype": "text/x-python",
   "name": "python",
   "nbconvert_exporter": "python",
   "pygments_lexer": "ipython3",
   "version": "3.11.1"
  },
  "vscode": {
   "interpreter": {
    "hash": "d615a5a39f3ae52447ccd15827a6436a4956cf256076eb42bef71867b3e8e653"
   }
  }
 },
 "nbformat": 4,
 "nbformat_minor": 5
}
